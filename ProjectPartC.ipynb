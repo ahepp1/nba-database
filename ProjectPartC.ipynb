{
  "nbformat": 4,
  "nbformat_minor": 0,
  "metadata": {
    "colab": {
      "name": "ProjectPartC.ipynb",
      "provenance": [],
      "collapsed_sections": [],
      "toc_visible": true
    },
    "kernelspec": {
      "name": "python3",
      "display_name": "Python 3"
    },
    "language_info": {
      "name": "python"
    }
  },
  "cells": [
    {
      "cell_type": "markdown",
      "metadata": {
        "id": "CS1Cm4t3pv47"
      },
      "source": [
        "# Player Statistics"
      ]
    },
    {
      "cell_type": "code",
      "metadata": {
        "id": "lQlqI9XOprPZ"
      },
      "source": [
        "import pandas as pd\n",
        "#we will treat 1949/1950 season as the inaugural one"
      ],
      "execution_count": 90,
      "outputs": []
    },
    {
      "cell_type": "code",
      "metadata": {
        "id": "ZFPstt9FDfFY"
      },
      "source": [
        "t49 = pd.read_csv('49_50.csv')\n",
        "t1 = pd.read_csv('50_51.csv')\n",
        "t2 = pd.read_csv('51_52.csv')\n",
        "t3 = pd.read_csv('52_53.csv')\n",
        "t4 = pd.read_csv('53_54.csv')\n",
        "t5 = pd.read_csv('54_55.csv')\n",
        "t6 = pd.read_csv('55_56.csv')\n",
        "t7 = pd.read_csv('56_57.csv')\n",
        "t8 = pd.read_csv('57_58.csv')\n",
        "t9 = pd.read_csv('58_59.csv')\n",
        "t0 = pd.read_csv('59_60.csv')\n",
        "\n",
        "five = pd.concat([t49, t1, t2, t3, t4, t5, t6, t7, t8, t9, t0])"
      ],
      "execution_count": 91,
      "outputs": []
    },
    {
      "cell_type": "code",
      "metadata": {
        "id": "3PITXRaOrWW9"
      },
      "source": [
        "t1 = pd.read_csv('60_61.csv')\n",
        "t2 = pd.read_csv('61_62.csv')\n",
        "t3 = pd.read_csv('62_63.csv')\n",
        "t4 = pd.read_csv('63_64.csv')\n",
        "t5 = pd.read_csv('64_65.csv')\n",
        "t6 = pd.read_csv('65_66.csv')\n",
        "t7 = pd.read_csv('66_67.csv')\n",
        "t8 = pd.read_csv('67_68.csv')\n",
        "t9 = pd.read_csv('68_69.csv')\n",
        "t0 = pd.read_csv('69_70.csv')\n",
        "\n",
        "six = pd.concat([t1, t2, t3, t4, t5, t6, t7, t8, t9, t0])"
      ],
      "execution_count": 92,
      "outputs": []
    },
    {
      "cell_type": "code",
      "metadata": {
        "id": "xRSxhbSkDmrE"
      },
      "source": [
        "t1 = pd.read_csv('70_71.csv')\n",
        "t2 = pd.read_csv('71_72.csv')\n",
        "t3 = pd.read_csv('72_73.csv')\n",
        "t4 = pd.read_csv('73_74.csv')\n",
        "t5 = pd.read_csv('74_75.csv')\n",
        "t6 = pd.read_csv('75_76.csv')\n",
        "t7 = pd.read_csv('76_77.csv')\n",
        "t8 = pd.read_csv('77_78.csv')\n",
        "t9 = pd.read_csv('78_79.csv')\n",
        "t0 = pd.read_csv('79_80.csv')\n",
        "\n",
        "seven = pd.concat([t1, t2, t3, t4, t5, t6, t7, t8, t9, t0])"
      ],
      "execution_count": 93,
      "outputs": []
    },
    {
      "cell_type": "code",
      "metadata": {
        "id": "SYVXOkbss6Kq"
      },
      "source": [
        "t1 = pd.read_csv('80_81.csv')\n",
        "t2 = pd.read_csv('81_82.csv')\n",
        "t3 = pd.read_csv('82_83.csv')\n",
        "t4 = pd.read_csv('83_84.csv')\n",
        "t5 = pd.read_csv('84_85.csv')\n",
        "t6 = pd.read_csv('85_86.csv')\n",
        "t7 = pd.read_csv('86_87.csv')\n",
        "t8 = pd.read_csv('87_88.csv')\n",
        "t9 = pd.read_csv('88_89.csv')\n",
        "t0 = pd.read_csv('89_90.csv')\n",
        "\n",
        "eight = pd.concat([t1, t2, t3, t4, t5, t6, t7, t8, t9, t0])"
      ],
      "execution_count": 94,
      "outputs": []
    },
    {
      "cell_type": "code",
      "metadata": {
        "id": "w-u18H6mtowy"
      },
      "source": [
        "t1 = pd.read_csv('90_91.csv')\n",
        "t2 = pd.read_csv('91_92.csv')\n",
        "t3 = pd.read_csv('92_93.csv')\n",
        "t4 = pd.read_csv('93_94.csv')\n",
        "t5 = pd.read_csv('94_95.csv')\n",
        "t6 = pd.read_csv('95_96.csv')\n",
        "t7 = pd.read_csv('96_97.csv')\n",
        "t8 = pd.read_csv('97_98.csv')\n",
        "t9 = pd.read_csv('98_99.csv')\n",
        "t0 = pd.read_csv('99_0.csv')\n",
        "\n",
        "nine = pd.concat([t1, t2, t3, t4, t5, t6, t7, t8, t9, t0])"
      ],
      "execution_count": 95,
      "outputs": []
    },
    {
      "cell_type": "code",
      "metadata": {
        "id": "BKmmpQNWuIuV"
      },
      "source": [
        "t1 = pd.read_csv('0_1.csv')\n",
        "t2 = pd.read_csv('1_2.csv')\n",
        "t3 = pd.read_csv('2_3.csv')\n",
        "t4 = pd.read_csv('3_4.csv')\n",
        "t5 = pd.read_csv('4_5.csv')\n",
        "t6 = pd.read_csv('5_6.csv')\n",
        "t7 = pd.read_csv('6_7.csv')\n",
        "t8 = pd.read_csv('7_8.csv')\n",
        "t9 = pd.read_csv('8_9.csv')\n",
        "t0 = pd.read_csv('9_10.csv')\n",
        "\n",
        "ten = pd.concat([t1, t2, t3, t4, t5, t6, t7, t8, t9, t0])"
      ],
      "execution_count": 96,
      "outputs": []
    },
    {
      "cell_type": "code",
      "metadata": {
        "id": "y0vaicpruk71"
      },
      "source": [
        "t1 = pd.read_csv('10_11.csv')\n",
        "t2 = pd.read_csv('11_12.csv')\n",
        "t3 = pd.read_csv('12_13.csv')\n",
        "t4 = pd.read_csv('13_14.csv')\n",
        "t5 = pd.read_csv('14_15.csv')\n",
        "t6 = pd.read_csv('15_16.csv')\n",
        "t7 = pd.read_csv('16_17.csv')\n",
        "t8 = pd.read_csv('17_18.csv')\n",
        "t9 = pd.read_csv('18_19.csv')\n",
        "\n",
        "eleven = pd.concat([t1, t2, t3, t4, t5, t6, t7, t8, t9])"
      ],
      "execution_count": 97,
      "outputs": []
    },
    {
      "cell_type": "code",
      "metadata": {
        "id": "yhXszUi24QSu"
      },
      "source": [
        "player_stats = pd.concat([five, six, seven, eight, nine, ten, eleven])\n",
        "\n",
        "#Remove unwanted columns\n",
        "player_stats = player_stats.drop(columns=['Age', 'GS', 'FG%', 'FT%', '3P%', '2P', '2PA', '2P%', 'eFG%', 'TRB', 'PF', 'Pos'])\n",
        "\n",
        "#Remove empty columns\n",
        "player_stats = player_stats.loc[:, ~player_stats.columns.str.contains('^Unnamed')]\n",
        "\n",
        "#Rename a few things\n",
        "player_stats = player_stats.rename(columns={\"Player\": \"name\", \"Tm\": \"team\"}, errors=\"raise\")"
      ],
      "execution_count": 207,
      "outputs": []
    },
    {
      "cell_type": "code",
      "metadata": {
        "id": "ZjqDRIen8Ksu"
      },
      "source": [
        "#Remove strange player ids in 'name' column\n",
        "player_stats['name'] = player_stats['name'].str.split(\"\\\\\").str[0]\n",
        "\n",
        "#Remove * indicating hall of fame player\n",
        "test = player_stats['name'].str[-1] == '*'\n",
        "player_stats.loc[test, 'name'] = player_stats[test]['name'].str[:-1]\n",
        "player_stats = player_stats.drop_duplicates()"
      ],
      "execution_count": 210,
      "outputs": []
    },
    {
      "cell_type": "code",
      "metadata": {
        "colab": {
          "base_uri": "https://localhost:8080/",
          "height": 0
        },
        "id": "ne5z8wdJ7651",
        "outputId": "4bb00ed9-88a8-4e0d-b5ed-8582ef6bda12"
      },
      "source": [
        "#Example data using Allen Iverson\n",
        "\n",
        "ai = player_stats['name'] == 'Allen Iverson'\n",
        "ai = player_stats[ai]\n",
        "print(ai.to_string())"
      ],
      "execution_count": 198,
      "outputs": [
        {
          "output_type": "stream",
          "text": [
            "Empty DataFrame\n",
            "Columns: [season, name, team, G, MP, FG, FGA, 3P, 3PA, FT, FTA, ORB, DRB, AST, STL, BLK, TOV, PTS]\n",
            "Index: []\n"
          ],
          "name": "stdout"
        }
      ]
    },
    {
      "cell_type": "code",
      "metadata": {
        "id": "Y4pEJj1m-lGy"
      },
      "source": [
        "#Export to a csv file\n",
        "player_stats.to_csv('player_stats.csv', index=False)"
      ],
      "execution_count": 128,
      "outputs": []
    },
    {
      "cell_type": "code",
      "metadata": {
        "colab": {
          "base_uri": "https://localhost:8080/",
          "height": 0
        },
        "id": "2y9d4cv2_aY8",
        "outputId": "2805a7db-b488-407f-c2b6-6a0ffc704d88"
      },
      "source": [
        "#Visualization for player stats\n",
        "print(\"Unique players in player_stats: \" + str(len(player_stats['name'].unique())))"
      ],
      "execution_count": 102,
      "outputs": [
        {
          "output_type": "stream",
          "text": [
            "Unique players in player_stats: 4149\n"
          ],
          "name": "stdout"
        }
      ]
    },
    {
      "cell_type": "markdown",
      "metadata": {
        "id": "N_kseg-wp3wU"
      },
      "source": [
        "# Player Demographics"
      ]
    },
    {
      "cell_type": "code",
      "metadata": {
        "id": "LrtYtderr_pp"
      },
      "source": [
        "#Load in player demographics sorted by first letter of last name\n",
        "a = pd.read_csv('A.csv')\n",
        "b = pd.read_csv('B.csv')\n",
        "c = pd.read_csv('C.csv')\n",
        "d = pd.read_csv('D.csv')\n",
        "e = pd.read_csv('E.csv')\n",
        "f = pd.read_csv('F.csv')\n",
        "g = pd.read_csv('G.csv')\n",
        "h = pd.read_csv('H.csv')\n",
        "i = pd.read_csv('I.csv')\n",
        "j = pd.read_csv('J.csv')\n",
        "k = pd.read_csv('K.csv')\n",
        "l = pd.read_csv('L.csv')\n",
        "m = pd.read_csv('M.csv')\n",
        "n = pd.read_csv('N.csv')\n",
        "o = pd.read_csv('O.csv')\n",
        "p = pd.read_csv('P.csv')\n",
        "q = pd.read_csv('Q.csv')\n",
        "r = pd.read_csv('R.csv')\n",
        "s = pd.read_csv('S.csv')\n",
        "t = pd.read_csv('T.csv')\n",
        "u = pd.read_csv('U.csv')\n",
        "v = pd.read_csv('V.csv')\n",
        "w = pd.read_csv('W.csv')\n",
        "y = pd.read_csv('Y.csv')\n",
        "z = pd.read_csv('Z.csv')\n",
        "\n",
        "#Concatenate into one csv\n",
        "player_demographics = pd.concat([a,b,c,d,e,f,g,h,i,j,k,l,m,n,o,p,q,r,s,t,u,v,w,y,z])\n",
        "\n",
        "#Remove unwanted columns\n",
        "player_demographics = player_demographics.drop(columns=['To', 'Colleges'])\n",
        "\n",
        "#Rename a few things\n",
        "player_demographics = player_demographics.rename(columns={\"Player\": \"name\", \"From\": \"rookie_year\", \"Pos\": \"position\", \"Ht\": \"height\", \"Wt\": \"weight\", \"Birth Date\": \"birth_date\"}, errors=\"raise\")\n",
        "\n",
        "#Remove strange player ids in 'name' column\n",
        "player_demographics['name'] = player_demographics['name'].str.split(\"\\\\\").str[0]\n",
        "\n",
        "#Remove * indicating hall of fame player\n",
        "test = player_demographics['name'].str[-1] == '*'\n",
        "player_demographics.loc[test, 'name'] = player_demographics[test]['name'].str[:-1]"
      ],
      "execution_count": 103,
      "outputs": []
    },
    {
      "cell_type": "markdown",
      "metadata": {
        "id": "cJ6J5pZPf-tc"
      },
      "source": [
        "### Cleaning up player demographics height values\n"
      ]
    },
    {
      "cell_type": "code",
      "metadata": {
        "id": "z7hgWj0J9uNl"
      },
      "source": [
        "#Export to a csv file\n",
        "player_demographics.to_csv('../content/player_demographics.csv', index=False)"
      ],
      "execution_count": 104,
      "outputs": []
    },
    {
      "cell_type": "code",
      "metadata": {
        "id": "VU179TrybLEK"
      },
      "source": [
        "# Load in from the built Excel Sheets\n",
        "dat = pd.read_csv('player_demographics.csv')\n",
        "# Create dict for conversion\n",
        "swap = {'Jun': 6, 'May': 5, 'Jul': 7, '44355': 80, '36708': 84, '44350': 75, '44353': 78, '44356': 81, '44352': 77, '36678': 72, '44349': 74, '44357': 82, '44354': 79, '44358': 83, '44327': 71, '44351': 76, '44379': 86, '44348': 73, '44382': 89}"
      ],
      "execution_count": 105,
      "outputs": []
    },
    {
      "cell_type": "code",
      "metadata": {
        "id": "sdJ53OQYbN2F"
      },
      "source": [
        "converted = []\n",
        "\n",
        "for i, val in dat['height'].iteritems():\n",
        "  # Split into month and inch\n",
        "  temp = val.split('-')\n",
        "  # Just a fix for the broken data from the \"N\"s\n",
        "  if val.isdigit():\n",
        "    converted.append(swap[val])\n",
        "    continue\n",
        "  # Ususally in this form\n",
        "  if temp[1] in swap.keys():\n",
        "    converted.append(int(temp[0]) + 12 * swap[temp[1]])\n",
        "  # Otherwise its always in 'Month-00' form\n",
        "  else:\n",
        "    converted.append(12 * swap[temp[0]])\n"
      ],
      "execution_count": 106,
      "outputs": []
    },
    {
      "cell_type": "code",
      "metadata": {
        "id": "rJSgG3DHbPdz"
      },
      "source": [
        "#Optionally add a new col or just change the existing one\n",
        "dat['height'] = converted\n",
        "#dat['height_inches'] = converted"
      ],
      "execution_count": 107,
      "outputs": []
    },
    {
      "cell_type": "code",
      "metadata": {
        "id": "-fDTXsxobeag"
      },
      "source": [
        "# Save\n",
        "dat.to_csv('player_demographics.csv')"
      ],
      "execution_count": 108,
      "outputs": []
    },
    {
      "cell_type": "code",
      "metadata": {
        "colab": {
          "base_uri": "https://localhost:8080/",
          "height": 0
        },
        "id": "WX8F7mDqj43b",
        "outputId": "a933f7bc-25db-4bb8-9818-24072ca9748e"
      },
      "source": [
        "#Example with Allen Iverson\n",
        "player_demographics = pd.read_csv('player_demographics.csv')\n",
        "\n",
        "ai = player_demographics['name'] == 'Allen Iverson'\n",
        "ai = player_demographics[ai]\n",
        "print(ai.to_string())"
      ],
      "execution_count": 109,
      "outputs": [
        {
          "output_type": "stream",
          "text": [
            "      Unnamed: 0           name  rookie_year position  height  weight   birth_date\n",
            "2047        2047  Allen Iverson         1997        G      72   165.0  June 7 1975\n"
          ],
          "name": "stdout"
        }
      ]
    },
    {
      "cell_type": "markdown",
      "metadata": {
        "id": "n-g3f5xOVVVY"
      },
      "source": [
        "# Teams\n"
      ]
    },
    {
      "cell_type": "code",
      "metadata": {
        "id": "HrZdVKKJnHe2"
      },
      "source": [
        "t0 = pd.read_csv('Bucks.csv')\n",
        "t1 = pd.read_csv('Bulls.csv')\n",
        "t2 = pd.read_csv('Pacers.csv')\n",
        "t3 = pd.read_csv('Pistons.csv')\n",
        "t4 = pd.read_csv('Cavaliers.csv')\n",
        "t5 = pd.read_csv('Hawks.csv')\n",
        "t6 = pd.read_csv('Heat.csv')\n",
        "t7 = pd.read_csv('Hornets.csv')\n",
        "t8 = pd.read_csv('Magic.csv')\n",
        "t9 = pd.read_csv('Wizards.csv')\n",
        "t10 = pd.read_csv('76rs.csv')\n",
        "t11 = pd.read_csv('Knicks.csv')\n",
        "t12 = pd.read_csv('Celtics.csv')\n",
        "t13 = pd.read_csv('Nets.csv')\n",
        "t14 = pd.read_csv('Raptors.csv')\n",
        "\n",
        "east = pd.concat([t0, t1, t2, t3, t4, t5, t6, t7, t8, t9, t10, t11, t12, t13, t14])\n",
        "east['conference'] = 'east'"
      ],
      "execution_count": 297,
      "outputs": []
    },
    {
      "cell_type": "code",
      "metadata": {
        "id": "dZ587eWpp7vb"
      },
      "source": [
        "t0 = pd.read_csv('Jazz.csv')\n",
        "t1 = pd.read_csv('Nuggets.csv')\n",
        "t2 = pd.read_csv('Thunder.csv')\n",
        "t3 = pd.read_csv('Timberwolves.csv')\n",
        "t4 = pd.read_csv('TrailBlazers.csv')\n",
        "t5 = pd.read_csv('Lakers.csv')\n",
        "t6 = pd.read_csv('Clippers.csv')\n",
        "t7 = pd.read_csv('Suns.csv')\n",
        "t8 = pd.read_csv('Warriors.csv')\n",
        "t9 = pd.read_csv('Kings.csv')\n",
        "t10 = pd.read_csv('Pelicans.csv')\n",
        "t11 = pd.read_csv('Rockets.csv')\n",
        "t12 = pd.read_csv('Spurs.csv')\n",
        "t13 = pd.read_csv('Grizzlies.csv')\n",
        "t14 = pd.read_csv('Mavericks.csv')\n",
        "t15 = pd.read_csv('Misc.csv')\n",
        "\n",
        "west = pd.concat([t0, t1, t2, t3, t4, t5, t6, t7, t8, t9, t10, t11, t12, t13, t14, t15])\n",
        "west['conference'] = 'west'"
      ],
      "execution_count": 298,
      "outputs": []
    },
    {
      "cell_type": "code",
      "metadata": {
        "id": "nY-JOpEqqL3E"
      },
      "source": [
        "#Concatenate into one dataframe\n",
        "team_stats = pd.concat([east, west])\n",
        "\n",
        "#Remove unwanted columns\n",
        "team_stats = team_stats.drop(columns=['Lg', 'W/L%', 'Rel Pace', 'Finish', 'Rel ORtg', 'Rel DRtg', 'Playoffs'])\n",
        "\n",
        "#Remove empty columns\n",
        "team_stats = team_stats.loc[:, ~team_stats.columns.str.contains('^Unnamed')]\n",
        "\n",
        "#Add Playoff Column\n",
        "team_stats['playoffs'] = 0\n",
        "\n",
        "#Remove * indicating playoffs and add it to playoffs column\n",
        "test = team_stats['Team'].str[-1] == '*'\n",
        "team_stats.loc[test, 'Team'] = team_stats[test]['Team'].str[:-1]\n",
        "team_stats.loc[test, 'playoffs'] = 1\n",
        "\n",
        "#Rename a few things\n",
        "team_stats = team_stats.rename(columns={\"Team\": \"team_name\"}, errors=\"raise\")\n",
        "\n",
        "#Change season format\n",
        "\n",
        "temp = team_stats['Season'].str.split(\"-\").str[0]\n",
        "temp1 = temp.str[:2]\n",
        "temp2 = team_stats['Season'].str.split(\"-\").str[1]\n",
        "team_stats['Season'] = temp + '/' + temp1 + temp2\n",
        "\n",
        "year = (team_stats['Season'].str.split(\"-\").str[0] == '1999/1900')\n",
        "team_stats.loc[year, 'Season'] = '1999/2000'"
      ],
      "execution_count": 299,
      "outputs": []
    },
    {
      "cell_type": "code",
      "metadata": {
        "id": "lH1CSeekvB5W"
      },
      "source": [
        "#Add team abbreviation to link with player_stats\n",
        "team_stats['team'] = ''\n",
        "\n",
        "#Nets\n",
        "temp = team_stats['team_name'] == 'Brooklyn Nets'\n",
        "team_stats.loc[temp, 'team'] = 'BRK'\n",
        "temp = team_stats['team_name'] == 'New Jersey Nets'\n",
        "team_stats.loc[temp, 'team'] = 'NJN'\n",
        "temp = team_stats['team_name'] == 'New York Nets'\n",
        "team_stats.loc[temp, 'team'] = 'NYN'\n",
        "\n",
        "#Celtics\n",
        "temp = team_stats['team_name'] == 'Boston Celtics'\n",
        "team_stats.loc[temp, 'team'] = 'BOS'\n",
        "\n",
        "#76rs\n",
        "temp = team_stats['team_name'] == 'Philadelphia 76ers'\n",
        "team_stats.loc[temp, 'team'] = 'PHI'\n",
        "temp = team_stats['team_name'] == 'Syracuse Nationals'\n",
        "team_stats.loc[temp, 'team'] = 'SYR'\n",
        "\n",
        "#Knicks\n",
        "temp = team_stats['team_name'] == 'New York Knicks'\n",
        "team_stats.loc[temp, 'team'] = 'NYK'\n",
        "\n",
        "#Raptors\n",
        "temp = team_stats['team_name'] == 'Toronto Raptors'\n",
        "team_stats.loc[temp, 'team'] = 'TOR'"
      ],
      "execution_count": 300,
      "outputs": []
    },
    {
      "cell_type": "code",
      "metadata": {
        "id": "nJyCsohu3O-8"
      },
      "source": [
        "#Heat\n",
        "temp = team_stats['team_name'] == 'Miami Heat'\n",
        "team_stats.loc[temp, 'team'] = 'MIA'\n",
        "\n",
        "#Hawks\n",
        "temp = team_stats['team_name'] == 'Atlanta Hawks'\n",
        "team_stats.loc[temp, 'team'] = 'ATL'\n",
        "temp = team_stats['team_name'] == 'St. Louis Hawks'\n",
        "team_stats.loc[temp, 'team'] = 'STL'\n",
        "temp = team_stats['team_name'] == 'Milwaukee Hawks'\n",
        "team_stats.loc[temp, 'team'] = 'MLH'\n",
        "temp = team_stats['team_name'] == 'Tri-Cities Blackhawks'\n",
        "team_stats.loc[temp, 'team'] = 'TRI'\n",
        "\n",
        "#Hornets\n",
        "temp = team_stats['team_name'] == 'Charlotte Hornets'\n",
        "team_stats.loc[temp, 'team'] = 'CHH'\n",
        "temp = (team_stats['team_name'] == 'Charlotte Hornets') & ((team_stats['Season'] == '2014/2015') |(team_stats['Season'] == '2015/2016') | (team_stats['Season'] == '2016/2017') | (team_stats['Season'] == '2017/2018') | (team_stats['Season'] == '2018/2019') | (team_stats['Season'] == '2019/2020') | (team_stats['Season'] == '2020/2021'))\n",
        "team_stats.loc[temp, 'team'] = 'CHO'\n",
        "temp = team_stats['team_name'] == 'Charlotte Bobcats'\n",
        "team_stats.loc[temp, 'team'] = 'CHA'\n",
        "\n",
        "#Magic\n",
        "temp = team_stats['team_name'] == 'Orlando Magic'\n",
        "team_stats.loc[temp, 'team'] = 'ORL'\n",
        "\n",
        "#Wizards\n",
        "temp = team_stats['team_name'] == 'Washington Wizards'\n",
        "team_stats.loc[temp, 'team'] = 'WAS'\n",
        "temp = team_stats['team_name'] == 'Washington Bullets'\n",
        "team_stats.loc[temp, 'team'] = 'WSB'\n",
        "temp = team_stats['team_name'] == 'Baltimore Bullets'\n",
        "team_stats.loc[temp, 'team'] = 'BAL'\n",
        "temp = team_stats['team_name'] == 'Chicago Packers'\n",
        "team_stats.loc[temp, 'team'] = 'CHP'\n",
        "temp = team_stats['team_name'] == 'Chicago Zephyrs'\n",
        "team_stats.loc[temp, 'team'] = 'CHZ'\n",
        "temp = team_stats['team_name'] == 'Capital Bullets'\n",
        "team_stats.loc[temp, 'team'] = 'CAP'"
      ],
      "execution_count": 301,
      "outputs": []
    },
    {
      "cell_type": "code",
      "metadata": {
        "id": "RCG1sBIY3-Xi"
      },
      "source": [
        "#Bucks\n",
        "temp = team_stats['team_name'] == 'Milwaukee Bucks'\n",
        "team_stats.loc[temp, 'team'] = 'MIL'\n",
        "\n",
        "#Bulls\n",
        "temp = team_stats['team_name'] == 'Chicago Bulls'\n",
        "team_stats.loc[temp, 'team'] = 'CHI'\n",
        "\n",
        "#Pacers\n",
        "temp = team_stats['team_name'] == 'Indiana Pacers'\n",
        "team_stats.loc[temp, 'team'] = 'IND'\n",
        "\n",
        "#Pistons\n",
        "temp = team_stats['team_name'] == 'Detroit Pistons'\n",
        "team_stats.loc[temp, 'team'] = 'DET'\n",
        "temp = team_stats['team_name'] == 'Fort Wayne Pistons'\n",
        "team_stats.loc[temp, 'team'] = 'FTW'\n",
        "\n",
        "#Cavaliers\n",
        "temp = team_stats['team_name'] == 'Cleveland Cavaliers'\n",
        "team_stats.loc[temp, 'team'] = 'CLE'"
      ],
      "execution_count": 302,
      "outputs": []
    },
    {
      "cell_type": "code",
      "metadata": {
        "id": "kEW9l3Ul_r_E"
      },
      "source": [
        "#Lakers\n",
        "temp = team_stats['team_name'] == 'Los Angeles Lakers'\n",
        "team_stats.loc[temp, 'team'] = 'LAL'\n",
        "temp = team_stats['team_name'] == 'Minneapolis Lakers'\n",
        "team_stats.loc[temp, 'team'] = 'MNL'\n",
        "\n",
        "#Clippers\n",
        "temp = team_stats['team_name'] == 'Los Angeles Clippers'\n",
        "team_stats.loc[temp, 'team'] = 'LAC'\n",
        "temp = team_stats['team_name'] == 'San Diego Clippers'\n",
        "team_stats.loc[temp, 'team'] = 'SDC'\n",
        "temp = team_stats['team_name'] == 'Buffalo Braves'\n",
        "team_stats.loc[temp, 'team'] = 'BUF'\n",
        "\n",
        "#Warriors\n",
        "temp = team_stats['team_name'] == 'Golden State Warriors'\n",
        "team_stats.loc[temp, 'team'] = 'GSW'\n",
        "temp = team_stats['team_name'] == 'San Francisco Warriors'\n",
        "team_stats.loc[temp, 'team'] = 'SFW'\n",
        "temp = team_stats['team_name'] == 'Philadelphia Warriors'\n",
        "team_stats.loc[temp, 'team'] = 'PHW'\n",
        "\n",
        "#Kings\n",
        "temp = team_stats['team_name'] == 'Sacramento Kings'\n",
        "team_stats.loc[temp, 'team'] = 'SAC'\n",
        "temp = team_stats['team_name'] == 'Kansas City Kings'\n",
        "team_stats.loc[temp, 'team'] = 'KCK'\n",
        "temp = team_stats['team_name'] == 'Kansas City-Omaha Kings'\n",
        "team_stats.loc[temp, 'team'] = 'KCO'\n",
        "temp = team_stats['team_name'] == 'Cincinnati Royals'\n",
        "team_stats.loc[temp, 'team'] = 'CIN'\n",
        "temp = team_stats['team_name'] == 'Rochester Royals'\n",
        "team_stats.loc[temp, 'team'] = 'ROC'\n",
        "\n",
        "#Suns\n",
        "temp = team_stats['team_name'] == 'Phoenix Suns'\n",
        "team_stats.loc[temp, 'team'] = 'PHO'"
      ],
      "execution_count": 303,
      "outputs": []
    },
    {
      "cell_type": "code",
      "metadata": {
        "id": "8w8sVVo1AMFO"
      },
      "source": [
        "#Spurs\n",
        "temp = team_stats['team_name'] == 'San Antonio Spurs'\n",
        "team_stats.loc[temp, 'team'] = 'SAS'\n",
        "\n",
        "#Grizzlies\n",
        "temp = team_stats['team_name'] == 'Memphis Grizzlies'\n",
        "team_stats.loc[temp, 'team'] = 'MEM'\n",
        "temp = team_stats['team_name'] == 'Vancouver Grizzlies'\n",
        "team_stats.loc[temp, 'team'] = 'VAN'\n",
        "\n",
        "#Rockets\n",
        "temp = team_stats['team_name'] == 'Houston Rockets'\n",
        "team_stats.loc[temp, 'team'] = 'HOU'\n",
        "temp = team_stats['team_name'] == 'San Diego Rockets'\n",
        "team_stats.loc[temp, 'team'] = 'SDR'\n",
        "\n",
        "#Mavericks\n",
        "temp = team_stats['team_name'] == 'Dallas Mavericks'\n",
        "team_stats.loc[temp, 'team'] = 'DAL'\n",
        "\n",
        "#Pelicans\n",
        "temp = team_stats['team_name'] == 'New Orleans Pelicans'\n",
        "team_stats.loc[temp, 'team'] = 'NOP'\n",
        "temp = team_stats['team_name'] == 'New Orleans Hornets'\n",
        "team_stats.loc[temp, 'team'] = 'NOH'\n",
        "temp = team_stats['team_name'] == 'New Orleans/Oklahoma City Hornets'\n",
        "team_stats.loc[temp, 'team'] = 'NOK'"
      ],
      "execution_count": 304,
      "outputs": []
    },
    {
      "cell_type": "code",
      "metadata": {
        "id": "zUcL9CqmAMIR"
      },
      "source": [
        "#Timberwolves\n",
        "temp = team_stats['team_name'] == 'Minnesota Timberwolves'\n",
        "team_stats.loc[temp, 'team'] = 'MIN'\n",
        "\n",
        "#Trailblazers\n",
        "temp = team_stats['team_name'] == 'Portland Trail Blazers'\n",
        "team_stats.loc[temp, 'team'] = 'POR'\n",
        "\n",
        "#Thunder\n",
        "temp = team_stats['team_name'] == 'Oklahoma City Thunder'\n",
        "team_stats.loc[temp, 'team'] = 'OKC'\n",
        "temp = team_stats['team_name'] == 'Seattle SuperSonics'\n",
        "team_stats.loc[temp, 'team'] = 'SEA'\n",
        "\n",
        "#Nuggets\n",
        "temp = team_stats['team_name'] == 'Denver Nuggets'\n",
        "team_stats.loc[temp, 'team'] = 'DEN'\n",
        "\n",
        "#Jazz\n",
        "temp = team_stats['team_name'] == 'Utah Jazz'\n",
        "team_stats.loc[temp, 'team'] = 'UTA'\n",
        "temp = team_stats['team_name'] == 'New Orleans Jazz'\n",
        "team_stats.loc[temp, 'team'] = 'NOJ'"
      ],
      "execution_count": 305,
      "outputs": []
    },
    {
      "cell_type": "code",
      "metadata": {
        "id": "ssZqJiWQv4mu"
      },
      "source": [
        "#Misc\n",
        "temp = (team_stats['team_name'] == 'Denver Nuggets') & (team_stats['Season'] == '1949/1950')\n",
        "team_stats.loc[temp, 'team'] = 'DNN'\n",
        "temp = (team_stats['team_name'] == 'Baltimore Bullets') & ((team_stats['Season'] == '1949/1950') |(team_stats['Season'] == '1950/1951') | (team_stats['Season'] == '1951/1952') | (team_stats['Season'] == '1952/1953') | (team_stats['Season'] == '1953/1954'))\n",
        "team_stats.loc[temp, 'team'] = 'BLB'\n",
        "temp = team_stats['team_name'] == 'Anderson Packers'\n",
        "team_stats.loc[temp, 'team'] = 'AND'\n",
        "temp = team_stats['team_name'] == 'Chicago Stags'\n",
        "team_stats.loc[temp, 'team'] = 'CHS'\n",
        "temp = team_stats['team_name'] == 'Indianapolis Olympians'\n",
        "team_stats.loc[temp, 'team'] = 'INO'\n",
        "temp = team_stats['team_name'] == 'St. Louis Bombers'\n",
        "team_stats.loc[temp, 'team'] = 'STB' \n",
        "temp = team_stats['team_name'] == 'Sheboygan Red Skins'\n",
        "team_stats.loc[temp, 'team'] = 'SHE'\n",
        "temp = team_stats['team_name'] == 'Washington Capitols'\n",
        "team_stats.loc[temp, 'team'] = 'WSC'\n",
        "temp = team_stats['team_name'] == 'Waterloo Hawks'\n",
        "team_stats.loc[temp, 'team'] = 'WAT'"
      ],
      "execution_count": 306,
      "outputs": []
    },
    {
      "cell_type": "code",
      "metadata": {
        "id": "XJ3qnVBBZ-zH"
      },
      "source": [
        "#print(team_stats.to_string())"
      ],
      "execution_count": 249,
      "outputs": []
    },
    {
      "cell_type": "code",
      "metadata": {
        "colab": {
          "base_uri": "https://localhost:8080/",
          "height": 0
        },
        "id": "3prD5U-Ya_Vf",
        "outputId": "2278557e-82a4-42a1-8a88-4a633796ec0e"
      },
      "source": [
        "import numpy as np\n",
        "\n",
        "t1 = team_stats.team.unique()\n",
        "t2 = player_stats.team.unique()\n",
        "t3 = np.setdiff1d(t2,t1)\n",
        "print(t3)"
      ],
      "execution_count": 307,
      "outputs": [
        {
          "output_type": "stream",
          "text": [
            "['TOT']\n"
          ],
          "name": "stdout"
        }
      ]
    },
    {
      "cell_type": "markdown",
      "metadata": {
        "id": "zSp3FRZI7uC5"
      },
      "source": [
        "# Coaches"
      ]
    },
    {
      "cell_type": "code",
      "metadata": {
        "id": "-kLI9Lwmxzzs"
      },
      "source": [
        "#extract coaches from team_stats\n",
        "coaches = team_stats[['Season', 'team', 'Coaches']]\n",
        "\n",
        "#Rename a few things\n",
        "coaches = coaches.rename(columns={\"Coaches\": \"coach_name\"}, errors=\"raise\")\n",
        "\n",
        "#Drop Coaches from team_stats\n",
        "team_stats = team_stats.drop(columns=['Coaches'])"
      ],
      "execution_count": 308,
      "outputs": []
    },
    {
      "cell_type": "code",
      "metadata": {
        "id": "KKXG1q3VxyDr"
      },
      "source": [
        "team_stats.to_csv('team_stats.csv')"
      ],
      "execution_count": 309,
      "outputs": []
    },
    {
      "cell_type": "code",
      "metadata": {
        "id": "iW41O7TE4n8N"
      },
      "source": [
        "#Save coaches_temp to use later\n",
        "coaches_temp = coaches.copy()\n",
        "coaches_temp['coach_name'] = ((coaches_temp['coach_name'].str.split(')').str[0]).str.split('(').str[0]).str[:-1]\n",
        "coaches = coaches_temp.copy()"
      ],
      "execution_count": 312,
      "outputs": []
    },
    {
      "cell_type": "code",
      "metadata": {
        "id": "s6QxzM4y7lGs"
      },
      "source": [
        "coaches.to_csv('coaches.csv')"
      ],
      "execution_count": 315,
      "outputs": []
    },
    {
      "cell_type": "markdown",
      "metadata": {
        "id": "uDZV4Biz813w"
      },
      "source": [
        "Issues: \n",
        "\n",
        "1. We don't have EVERY player ever but we have all that matter\n",
        "2. Not an Issue really, but many stats didn't start being counted until the 70s so we have a lot of NaNs but thats something that isn't on us.3\n",
        "\n",
        "\n",
        "\n"
      ]
    }
  ]
}